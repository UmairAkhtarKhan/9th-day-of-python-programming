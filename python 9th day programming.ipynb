{
 "cells": [
  {
   "cell_type": "code",
   "execution_count": 10,
   "id": "6048fe62-551a-4061-98a2-485919f86c89",
   "metadata": {},
   "outputs": [
    {
     "name": "stdout",
     "output_type": "stream",
     "text": [
      "Umair is a Developer\n",
      "Azhar is a Developer\n",
      " hi  Good morning \n",
      " UMER\n",
      "Thanks for using the greet\n"
     ]
    }
   ],
   "source": [
    "# a constructor is special method in python that used to create and intilize an object of a class,constructors \n",
    "# are automatically  invoked or called when an object of class is created,main purpose of class is to assign values to the data members of class,\n",
    "# it canot return any value other than none\n",
    "class person:\n",
    "    # constructor\n",
    "    def __init__(self,n,o):\n",
    "        self.name=n\n",
    "        self.occupation=o\n",
    "    def info(self):\n",
    "        print(f\"{self.name} is a {self.occupation}\")\n",
    "a=person('Umair','Developer')\n",
    "b=person('Azhar','Developer')\n",
    "a.info()\n",
    "b.info()\n",
    "# types of constructor\n",
    "# 1 parameterized constructor\n",
    "# when a constructor accept other arguments with self is parameterized constructor,\n",
    "# these parameter are used to assign values to the data members of class\n",
    "# 2 default constructor donot accept any argument other than self and returns new function that modify "
   ]
  },
  {
   "cell_type": "code",
   "execution_count": 11,
   "id": "fe7b675e-8b09-4822-b72a-cfa1b1e103e1",
   "metadata": {},
   "outputs": [
    {
     "name": "stdout",
     "output_type": "stream",
     "text": [
      " hi  Good morning \n",
      " UMER\n",
      "Thanks for using the greet\n"
     ]
    }
   ],
   "source": [
    "# decorators\n",
    "# decorators are powerfull and verstile tool of python and used to modify the behavior of function\n",
    "# ,they are way to extend the functionality of function or method without modifying  its source code\n",
    "# decorator takes the argument to a function\n",
    "# the behavior of function and new function called decorator\n",
    "def greet(fx):\n",
    "    def mfx():\n",
    "        print(\" hi  Good morning \")\n",
    "        fx()\n",
    "        print(\"Thanks for using the greet\")\n",
    "    return mfx\n",
    "@greet\n",
    "def hello():\n",
    "    print(\" UMER\")\n",
    "hello()"
   ]
  },
  {
   "cell_type": "raw",
   "id": "6f28fdfb-09c8-442a-acf7-54bba9340f67",
   "metadata": {},
   "source": [
    "# getters in python are used to access the values of an object properity and they are used to return the vale of specfic properity and \n",
    "# typically defined using the property decorator\n",
    "class myclass:\n",
    "    def __init__(self,v):\n",
    "        self.value=v\n",
    "        \n",
    "    @property\n",
    "    def propgetter(self):\n",
    "        return self.value\n",
    "obj=myclass(10)\n",
    "obj.value"
   ]
  },
  {
   "cell_type": "code",
   "execution_count": 35,
   "id": "a8deb37e-e05f-4f53-b6e1-4b5bea2242d4",
   "metadata": {},
   "outputs": [
    {
     "name": "stdout",
     "output_type": "stream",
     "text": [
      "67.0\n",
      "value is : 6.7\n"
     ]
    }
   ],
   "source": [
    "# getter donot take any parameter and we canot set value throgh getter method for this we need setter method ,which can be added by decrotating method\n",
    "class myclass:\n",
    "    def __init__(self,v):\n",
    "        self.value=v\n",
    "    def show(self):\n",
    "        print(f\"value is : {self.value}\")\n",
    "        \n",
    "    @property\n",
    "    def propgetter(self):\n",
    "        return 10*self.value\n",
    "    @propgetter.setter\n",
    "    def propgetter(self,new_val):\n",
    "         self.value=new_val/10\n",
    "         return self.value\n",
    "obj=myclass(10)\n",
    "obj.propgetter=67\n",
    "print(obj.propgetter)\n",
    "obj.show()\n"
   ]
  },
  {
   "cell_type": "code",
   "execution_count": 51,
   "id": "04177a48-da2e-4e88-afd1-dd08cd63e961",
   "metadata": {},
   "outputs": [
    {
     "name": "stdout",
     "output_type": "stream",
     "text": [
      " The name of Employee is Ibrahim and id is 2 and Default Language is Python \n"
     ]
    }
   ],
   "source": [
    "# inheritence in python when a class derived its properties from base class or parent class and it have some its own properties its called inheritence\n",
    "class emp:\n",
    "    def __init__(self,id,name,language):\n",
    "        self.id=id\n",
    "        self.name=name\n",
    "        self.language=language\n",
    "    # def show(self):\n",
    "    #     print(f\" The name of Employee is {self.name} and id is {self.id}\")\n",
    "# a1=emp(1,'Umair','Python')\n",
    "# a1.show()\n",
    "class Programmer(emp):\n",
    "    def show(self):\n",
    "        print(f\" The name of Employee is {self.name} and id is {self.id} and Default Language is {self.language} \")\n",
    "a2=Programmer(2,'Ibrahim','Python')\n",
    "a2.show()\n",
    "    \n",
    "        "
   ]
  },
  {
   "cell_type": "code",
   "execution_count": null,
   "id": "89efc7e8-6e97-43a8-ac19-a39d90b2bf44",
   "metadata": {},
   "outputs": [],
   "source": []
  }
 ],
 "metadata": {
  "kernelspec": {
   "display_name": "Python 3 (ipykernel)",
   "language": "python",
   "name": "python3"
  },
  "language_info": {
   "codemirror_mode": {
    "name": "ipython",
    "version": 3
   },
   "file_extension": ".py",
   "mimetype": "text/x-python",
   "name": "python",
   "nbconvert_exporter": "python",
   "pygments_lexer": "ipython3",
   "version": "3.11.7"
  }
 },
 "nbformat": 4,
 "nbformat_minor": 5
}
